{
 "cells": [
  {
   "cell_type": "markdown",
   "id": "78b0b8d1",
   "metadata": {},
   "source": [
    "# Opis działania\n",
    "Funkcja pobiera tekst który ma przetworzyć w celu znalezienie danych wrażliwych i czy tekst zawiera nieodpowiednie treści\n",
    "1. Tekst jest wysyłany do API OpenAI wraz z odpowiednim zapytaniem. Zwracana jest lista zawierające kategorie i odpowiadające im dane wrażliwe. Jest też zwracana informacja o nieodpowiednich treściach\n",
    "2. Usuwanie edge case\n",
    "3. Model nie zawsze zwraca poprawne odpowiedzi czy występują nieodpowiednie treści więc odpowiedź i/lub tekst jest ponownie przetwarzany w celu sprawdzenia poprawności\n",
    "4. Wyświetlana jest wiadomość czy treść zawiera dane wrażliwe i nieodpowiednie treści\n",
    "Przy każdorazowym sprawdzeniu tekstu aplikacja wyśle 1-3 zapytania"
   ]
  },
  {
   "cell_type": "markdown",
   "id": "2f91a153",
   "metadata": {},
   "source": [
    "#### def ochrona(user_message)\n",
    "To jest główna funkcja programu, która przetwarza wiadomość użytkownika i zwraca trzy wartości:\n",
    "- listę tupli zawierającą dane wrażliwe i ich kategorie\n",
    "- oryginalną wiadomość\n",
    "- oryginalną wiadomość z zastąpionymi danymi"
   ]
  },
  {
   "cell_type": "markdown",
   "id": "8f34ee27",
   "metadata": {},
   "source": [
    "#### def double_check(user_message=user_message, data_to_check=None)\n",
    "Ta funkcja sprawdza, czy to, co wypisał model rzeczywiście się znajduje w tekście i zwraca \"Tak\" lub \"Nie.\n",
    "Jeśli odpowiedź nie zostanie podana (data_to_check) to model przeszuka tekst w poszukiwaniu nieodpowiednich treści, a następnie one zostaną sprawdzone.\n",
    "Zwraca \"True\" lub \"False\""
   ]
  },
  {
   "cell_type": "code",
   "execution_count": 9,
   "id": "97e0f7bd",
   "metadata": {},
   "outputs": [
    {
     "name": "stdout",
     "output_type": "stream",
     "text": [
      "Requirement already satisfied: openai in c:\\users\\seba\\anaconda3\\lib\\site-packages (1.19.0)\n",
      "Requirement already satisfied: anyio<5,>=3.5.0 in c:\\users\\seba\\anaconda3\\lib\\site-packages (from openai) (3.5.0)\n",
      "Requirement already satisfied: distro<2,>=1.7.0 in c:\\users\\seba\\anaconda3\\lib\\site-packages (from openai) (1.9.0)\n",
      "Requirement already satisfied: httpx<1,>=0.23.0 in c:\\users\\seba\\anaconda3\\lib\\site-packages (from openai) (0.27.0)\n",
      "Requirement already satisfied: pydantic<3,>=1.9.0 in c:\\users\\seba\\anaconda3\\lib\\site-packages (from openai) (1.10.8)\n",
      "Requirement already satisfied: sniffio in c:\\users\\seba\\anaconda3\\lib\\site-packages (from openai) (1.2.0)\n",
      "Requirement already satisfied: tqdm>4 in c:\\users\\seba\\anaconda3\\lib\\site-packages (from openai) (4.65.0)\n",
      "Requirement already satisfied: typing-extensions<5,>=4.7 in c:\\users\\seba\\anaconda3\\lib\\site-packages (from openai) (4.7.1)\n",
      "Requirement already satisfied: idna>=2.8 in c:\\users\\seba\\anaconda3\\lib\\site-packages (from anyio<5,>=3.5.0->openai) (3.4)\n",
      "Requirement already satisfied: certifi in c:\\users\\seba\\anaconda3\\lib\\site-packages (from httpx<1,>=0.23.0->openai) (2023.11.17)\n",
      "Requirement already satisfied: httpcore==1.* in c:\\users\\seba\\anaconda3\\lib\\site-packages (from httpx<1,>=0.23.0->openai) (1.0.5)\n",
      "Requirement already satisfied: h11<0.15,>=0.13 in c:\\users\\seba\\anaconda3\\lib\\site-packages (from httpcore==1.*->httpx<1,>=0.23.0->openai) (0.14.0)\n",
      "Requirement already satisfied: colorama in c:\\users\\seba\\anaconda3\\lib\\site-packages (from tqdm>4->openai) (0.4.6)\n"
     ]
    }
   ],
   "source": [
    "!pip install openai"
   ]
  },
  {
   "cell_type": "code",
   "execution_count": 10,
   "id": "681b87c6",
   "metadata": {},
   "outputs": [],
   "source": [
    "from logins import OpenAI_key  # ta funkcja zwraca klucz do API\n",
    "from openai import OpenAI\n",
    "import os"
   ]
  },
  {
   "cell_type": "code",
   "execution_count": 11,
   "id": "f59f471a",
   "metadata": {},
   "outputs": [],
   "source": [
    "def ochrona(user_message):\n",
    "    def check_edge_case(item):\n",
    "        if len(item) < 2 or \"n/a\" in item:  # edge case\n",
    "            return True\n",
    "\n",
    "\n",
    "    def double_check(user_message=user_message, data_to_check=None):\n",
    "        # osobne sprawdzenie, czy rzeczywiście nie ma nieodpowiednich treści w tekście\n",
    "        if data_to_check is None:\n",
    "            system_message = f\"Twoim zdaniem jest sprawdzenie czy w tekście znajdują się nieodpowiednie treści takei jak: mowę nienawiści, groźby, zastraszanie, agresywne zachowanie, niedozwolone czynności itp. Jeśli coś znajdziesz to wypisz je w formacie: 'Nieodpowiednie treści: (wypisz po przecinku co znalazłeś)\"\n",
    "\n",
    "            messages = [{\"role\": \"system\", \"content\": system_message},\n",
    "                        {\"role\": \"user\", \"content\": user_message}, ]\n",
    "\n",
    "            completion = client.chat.completions.create(messages=messages, model=\"gpt-3.5-turbo\", temperature=0)\n",
    "            answer = completion.choices[0].message.content\n",
    "            data_to_check = (answer.split(\":\")[0].strip(), answer.split(\":\")[1].strip())\n",
    "\n",
    "        # weryfikacja odpowiedzi\n",
    "        system_message = f\"Twoim zdaniem jest sprawdzenie czy w tekście znajdują się takie treści: '{data_to_check[1]}' z kategorii {data_to_check[0]}. Zwróć tylko 'Tak' lub 'Nie'\"\n",
    "\n",
    "        messages = [{\"role\": \"system\", \"content\": system_message},\n",
    "                    {\"role\": \"user\", \"content\": user_message}, ]\n",
    "\n",
    "        completion = client.chat.completions.create(messages=messages, model=\"gpt-3.5-turbo\", temperature=0)\n",
    "        answer = completion.choices[0].message.content\n",
    "        if \"Tak\" in answer:\n",
    "            return True\n",
    "        else:\n",
    "            return False\n",
    "\n",
    "    os.environ[\"OPENAI_API_KEY\"] = OpenAI_key()\n",
    "    client = OpenAI()\n",
    "\n",
    "    # prompt, który zwróci listę danych wrażliwych\n",
    "    system_message = \"Twoją odpowiedzią będzie wypisanie listy danych osobowych, których można by było użyć do identyfikacji czyli dane takie jak: imię, nazwisko, adres, nazwy miejsc itp. Jeśli w tekście wykryto mowę nienawiści, groźby, zastraszanie lub inne zakazane czynności to wypisz je po 'Nieodpowiednie treści: '. Każdy z osobnych punktów pisz w nowe linijce. Jeżeli nie będzie żadnych danych do wypisania to napisz 'n/a'.Jeśli jest kilka informacji do tej samej kategorii to wypisz je wszystkie.\\nFormat przykładowej odpowiedzi:\\nImię: Jan\\nNazwisko: Kowalski\"\n",
    "    # przykładowy tekst\n",
    "    # user_message = \"John Smith, urodzony 15 lipca 1985 roku w Nowym Jorku, mieszka na ulicy Maple Avenue 123. Jego numer telefonu to 555-123-4567, a adres e-mail to john.smith@example.com. Wczoraj wieczorem spotkał się z kolegami i zbyt wiele wypił, co skończyło się awanturą. John zachował się bardzo agresywnie i obraźliwie wobec innych osób, co jest niedopuszczalne. W wyniku incydentu został zatrzymany przez policję.\"\n",
    "\n",
    "    messages = [{\"role\": \"system\", \"content\": system_message},\n",
    "                {\"role\": \"user\", \"content\": user_message}, ]\n",
    "\n",
    "    completion = client.chat.completions.create(messages=messages, model=\"gpt-3.5-turbo\", temperature=0)\n",
    "    answer = completion.choices[0].message.content\n",
    "\n",
    "    lista_danych = answer.split(\"\\n\")\n",
    "\n",
    "    for i in range(len((lista_danych))):\n",
    "        if \"Inne: Nieodpowiednie treści:\" in lista_danych[i]:\n",
    "            lista_danych[i] = lista_danych[i].replace(\"Inne: \", \"\")\n",
    "        if (\"adres\" in lista_danych[i].lower()) and (\"ul.\" in lista_danych[i]):\n",
    "            lista_danych[i] = lista_danych[i].replace(\"ul.\", \"\").strip()\n",
    "        else:\n",
    "            pass\n",
    "\n",
    "    # zamiana danych wrażliwych na anonimowe\n",
    "    zmiana_danych = []\n",
    "    przetworzony_tekst = user_message\n",
    "\n",
    "    for item in lista_danych:\n",
    "        dane_wrazliwe = item.split(\":\")\n",
    "        if check_edge_case(item):\n",
    "            continue\n",
    "        kategoria = dane_wrazliwe[0].strip()\n",
    "        dane = dane_wrazliwe[1].strip()\n",
    "        if \",\" in dane:  # jeżeli dane zawierają kilka elementów to trzeba je wszystkie zamienić\n",
    "            temp = dane.split(\",\")\n",
    "            for dana in temp:\n",
    "                przetworzony_tekst = przetworzony_tekst.replace(dana, f\"[{kategoria.upper()}]\")\n",
    "\n",
    "        zmiana_danych.append((kategoria, dane))\n",
    "        przetworzony_tekst = przetworzony_tekst.replace(dane, f\"[{kategoria.upper()}]\")\n",
    "\n",
    "    # weryfikacja czy się znajdują nieodpowiednie treści\n",
    "    czy_jest = None\n",
    "    for i in range(len(zmiana_danych)):\n",
    "        if \"Nieodpowiednie treści\" in zmiana_danych[i] and (zmiana_danych[i][1].lower() != \"brak\" or zmiana_danych[i][1].lower() != \"nie\"):\n",
    "            # sprawdzanie, czy informacje są prawdziwe\n",
    "            if double_check(user_message=user_message, data_to_check=zmiana_danych[i]) is True:\n",
    "                zmiana_danych[i] = (\"Nieodpowiednie treści\", \"Tak\")\n",
    "            else:\n",
    "                zmiana_danych[i] = (\"Nieodpowiednie treści\", \"Nie\")\n",
    "                czy_jest = True\n",
    "                break\n",
    "        elif \"Nieodpowiednie treści\" in zmiana_danych[i]:\n",
    "            # sprawdzanie, czy rzeczywiście nie ma\n",
    "            if double_check(user_message=user_message) is True:\n",
    "                zmiana_danych[i] = (\"Nieodpowiednie treści\", \"Tak\")\n",
    "            else:\n",
    "                zmiana_danych[i] = (\"Nieodpowiednie treści\", \"Nie\")\n",
    "                czy_jest = True\n",
    "                break\n",
    "        if \"Nieodpowiednie treści\" in zmiana_danych[i] and zmiana_danych[i][1] == \"Tak\":\n",
    "            print(\"W tekście znajdują się nieodpowiednie treści\")\n",
    "            czy_jest = True\n",
    "            break\n",
    "\n",
    "    if czy_jest != True:  # jeżeli nie ma tego fragmentu to i tak sprawdza\n",
    "        if double_check(user_message=user_message) is True:\n",
    "            zmiana_danych.append((\"Nieodpowiednie treści\", \"Tak\"))\n",
    "            print(\"W tekście znajdują się nieodpowiednie treści\")\n",
    "        else:\n",
    "            zmiana_danych.append((\"Nieodpowiednie treści\", \"Nie\"))\n",
    "\n",
    "\n",
    "    if len(zmiana_danych) > 1:\n",
    "        print(\"Tekst zawiera dane wrażliwe\")\n",
    "    elif len(zmiana_danych) == 1:\n",
    "        for item in zmiana_danych:\n",
    "            if \"Nieodpowiednie treści\" not in item:\n",
    "                print(\"Tekst zawiera dane wrażliwe\")\n",
    "\n",
    "    return zmiana_danych, user_message, przetworzony_tekst\n"
   ]
  },
  {
   "cell_type": "code",
   "execution_count": 12,
   "id": "0243b99d",
   "metadata": {},
   "outputs": [
    {
     "name": "stdout",
     "output_type": "stream",
     "text": [
      "W tekście znajdują się nieodpowiednie treści\n",
      "Tekst zawiera dane wrażliwe\n"
     ]
    },
    {
     "data": {
      "text/plain": [
       "([('Imię', 'John'),\n",
       "  ('Nazwisko', 'Smith'),\n",
       "  ('Data urodzenia', '15 lipca 1985'),\n",
       "  ('Miejsce urodzenia', 'Nowy Jork'),\n",
       "  ('Adres zamieszkania', 'Maple Avenue 123'),\n",
       "  ('Numer telefonu', '555-123-4567'),\n",
       "  ('Adres e-mail', 'john.smith@example.com'),\n",
       "  ('Nieodpowiednie treści', 'Tak')],\n",
       " 'John Smith, urodzony 15 lipca 1985 roku w Nowym Jorku, mieszka na ulicy Maple Avenue 123. Jego numer telefonu to 555-123-4567, a adres e-mail to john.smith@example.com. Wczoraj wieczorem spotkał się z kolegami i zbyt wiele wypił, co skończyło się awanturą. John zachował się bardzo agresywnie i obraźliwie wobec innych osób, co jest niedopuszczalne. W wyniku incydentu został zatrzymany przez policję',\n",
       " '[IMIĘ] [NAZWISKO], urodzony [DATA URODZENIA] roku w Nowym Jorku, mieszka na ulicy [ADRES ZAMIESZKANIA]. Jego numer telefonu to [NUMER TELEFONU], a adres e-mail to [ADRES E-MAIL]. Wczoraj wieczorem spotkał się z kolegami i zbyt wiele wypił, co skończyło się awanturą. [IMIĘ] zachował się bardzo [NIEODPOWIEDNIE TREŚCI] i[NIEODPOWIEDNIE TREŚCI] wobec innych osób, co jest niedopuszczalne. W wyniku incydentu został[NIEODPOWIEDNIE TREŚCI]')"
      ]
     },
     "execution_count": 12,
     "metadata": {},
     "output_type": "execute_result"
    }
   ],
   "source": [
    "ochrona(\"John Smith, urodzony 15 lipca 1985 roku w Nowym Jorku, mieszka na ulicy Maple Avenue 123. Jego numer telefonu to 555-123-4567, a adres e-mail to john.smith@example.com. Wczoraj wieczorem spotkał się z kolegami i zbyt wiele wypił, co skończyło się awanturą. John zachował się bardzo agresywnie i obraźliwie wobec innych osób, co jest niedopuszczalne. W wyniku incydentu został zatrzymany przez policję\")"
   ]
  },
  {
   "cell_type": "markdown",
   "id": "27664ca0",
   "metadata": {},
   "source": [
    "## Limity\n",
    "### Wykrywanie nieodpowiednich treści\n",
    "Model jest przewrażliwiony i uznaje za dużo rzeczy za nieodpowiednie treści dlatego jest funkcja \"double_check()\", która sprawdza, czy to, co wykrył jest zgodne z tekstem czy nie\n",
    "Zazwyczaj będzie poprawnie zwracał informację o występowaniu tych treści\n",
    "\n",
    "### Zdrobnienia i odmiany\n",
    "Model nie zawsze wypisuje wszystkich odmian imion, przez co zamiana tekstu na anonimowy nie jest możliwa, ponieważ używam do tego funkcji .replace()\n",
    "Czasami wypisuje wersję słowa bez odmiany a w tekście jest odmieniona\n",
    "\n",
    "### Precyzja\n",
    "Im dłuższy tekst, tym mniejsza precyzja programu"
   ]
  }
 ],
 "metadata": {
  "kernelspec": {
   "display_name": "Python 3 (ipykernel)",
   "language": "python",
   "name": "python3"
  },
  "language_info": {
   "codemirror_mode": {
    "name": "ipython",
    "version": 3
   },
   "file_extension": ".py",
   "mimetype": "text/x-python",
   "name": "python",
   "nbconvert_exporter": "python",
   "pygments_lexer": "ipython3",
   "version": "3.11.5"
  }
 },
 "nbformat": 4,
 "nbformat_minor": 5
}
